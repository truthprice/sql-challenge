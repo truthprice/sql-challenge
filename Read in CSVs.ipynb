{
 "cells": [
  {
   "cell_type": "code",
   "execution_count": null,
   "id": "ff4454bb",
   "metadata": {},
   "outputs": [],
   "source": [
    "# Dependencies\n",
    "import pandas as pd\n",
    "import sqlalchemy\n",
    "from sqlalchemy import create_engine\n",
    "import psycopg2"
   ]
  },
  {
   "cell_type": "code",
   "execution_count": null,
   "id": "2fa8fe2d",
   "metadata": {},
   "outputs": [],
   "source": [
    "departments = \"EmployeeSQL/departments.csv\"\n",
    "dept_emp = \"EmployeeSQL/dept_emp.csv\"\n",
    "dept_manager = \"EmployeeSQL/dept_manager.csv\"\n",
    "employees = \"EmployeeSQL/employees.csv\"\n",
    "salaries = \"EmployeeSQL/salaries.csv\"\n",
    "titles = \"EmployeeSQL/titles.csv\""
   ]
  },
  {
   "cell_type": "code",
   "execution_count": null,
   "id": "67655e2b",
   "metadata": {},
   "outputs": [],
   "source": [
    "departments_df = pd.read_csv(departments)\n",
    "dept_emp_df = pd.read_csv(dept_emp)\n",
    "dept_manager_df = pd.read_csv(dept_manager)\n",
    "employees_df = pd.read_csv(employees)\n",
    "salaries_df = pd.read_csv(salaries)\n",
    "titles_df = pd.read_csv(titles)\n",
    "\n",
    "departments_df"
   ]
  },
  {
   "cell_type": "code",
   "execution_count": null,
   "id": "a480ce12",
   "metadata": {},
   "outputs": [],
   "source": [
    "connection_string = 'postgres:postgres@localhost:5434/Employee_DB'\n",
    "engine = create_engine(f'postgresql://{connection_string}')\n",
    "print(engine)"
   ]
  },
  {
   "cell_type": "code",
   "execution_count": null,
   "id": "a0ade066",
   "metadata": {},
   "outputs": [],
   "source": [
    "departments_df.to_sql(name = 'departments', con=engine, if_exists='replace', index=True)\n",
    "# dept_emp_df.to_sql(name='deptEmp', con=engine, if_exists='append', index=True)\n",
    "# dept_manager_df.to_sql(name='deptManager', con=engine, if_exists='append', index=True)\n",
    "# employees_df.to_sql(name='employees', con=engine, if_exists='append', index=True)\n",
    "# salaries_df.to_sql(name='salaries', con=engine, if_exists='append', index=True)\n",
    "# titles_df.to_sql(name='titles', con=engine, if_exists='append', index=True)"
   ]
  },
  {
   "cell_type": "code",
   "execution_count": null,
   "id": "416bc70d",
   "metadata": {},
   "outputs": [],
   "source": []
  }
 ],
 "metadata": {
  "kernelspec": {
   "display_name": "Python 3",
   "language": "python",
   "name": "python3"
  },
  "language_info": {
   "codemirror_mode": {
    "name": "ipython",
    "version": 3
   },
   "file_extension": ".py",
   "mimetype": "text/x-python",
   "name": "python",
   "nbconvert_exporter": "python",
   "pygments_lexer": "ipython3",
   "version": "3.6.10"
  }
 },
 "nbformat": 4,
 "nbformat_minor": 5
}
